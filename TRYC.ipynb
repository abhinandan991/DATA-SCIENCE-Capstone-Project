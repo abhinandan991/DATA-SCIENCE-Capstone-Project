{
    "cells": [
        {
            "metadata": {},
            "cell_type": "code",
            "source": "!pip3 install pandas dash",
            "execution_count": 2,
            "outputs": [
                {
                    "output_type": "stream",
                    "text": "/opt/conda/envs/Python-3.7-OpenCE/lib/python3.7/site-packages/secretstorage/dhcrypto.py:16: CryptographyDeprecationWarning: int_from_bytes is deprecated, use int.from_bytes instead\n  from cryptography.utils import int_from_bytes\n/opt/conda/envs/Python-3.7-OpenCE/lib/python3.7/site-packages/secretstorage/util.py:25: CryptographyDeprecationWarning: int_from_bytes is deprecated, use int.from_bytes instead\n  from cryptography.utils import int_from_bytes\nRequirement already satisfied: pandas in /opt/conda/envs/Python-3.7-OpenCE/lib/python3.7/site-packages (1.0.5)\nCollecting dash\n  Downloading dash-2.0.0-py3-none-any.whl (7.3 MB)\n\u001b[K     |\u2588\u2588\u2588\u2588\u2588\u2588\u2588\u2588\u2588\u2588\u2588\u2588\u2588\u2588\u2588\u2588\u2588\u2588\u2588\u2588\u2588\u2588\u2588\u2588\u2588\u2588\u2588\u2588\u2588\u2588\u2588\u2588| 7.3 MB 20.4 MB/s eta 0:00:01\n\u001b[?25hRequirement already satisfied: pytz>=2017.2 in /opt/conda/envs/Python-3.7-OpenCE/lib/python3.7/site-packages (from pandas) (2020.1)\nRequirement already satisfied: numpy>=1.13.3 in /opt/conda/envs/Python-3.7-OpenCE/lib/python3.7/site-packages (from pandas) (1.19.2)\nRequirement already satisfied: python-dateutil>=2.6.1 in /opt/conda/envs/Python-3.7-OpenCE/lib/python3.7/site-packages (from pandas) (2.8.1)\nCollecting dash-core-components==2.0.0\n  Downloading dash_core_components-2.0.0.tar.gz (3.4 kB)\nCollecting dash-html-components==2.0.0\n  Downloading dash_html_components-2.0.0.tar.gz (3.8 kB)\nCollecting Flask>=1.0.4\n  Downloading Flask-2.0.2-py3-none-any.whl (95 kB)\n\u001b[K     |\u2588\u2588\u2588\u2588\u2588\u2588\u2588\u2588\u2588\u2588\u2588\u2588\u2588\u2588\u2588\u2588\u2588\u2588\u2588\u2588\u2588\u2588\u2588\u2588\u2588\u2588\u2588\u2588\u2588\u2588\u2588\u2588| 95 kB 9.7 MB/s  eta 0:00:01\n\u001b[?25hCollecting flask-compress\n  Downloading Flask_Compress-1.10.1-py3-none-any.whl (7.9 kB)\nCollecting plotly>=5.0.0\n  Downloading plotly-5.3.1-py2.py3-none-any.whl (23.9 MB)\n\u001b[K     |\u2588\u2588\u2588\u2588\u2588\u2588\u2588\u2588\u2588\u2588\u2588\u2588\u2588\u2588\u2588\u2588\u2588\u2588\u2588\u2588\u2588\u2588\u2588\u2588\u2588\u2588\u2588\u2588\u2588\u2588\u2588\u2588| 23.9 MB 53.6 MB/s eta 0:00:01\n\u001b[?25hCollecting dash-table==5.0.0\n  Downloading dash_table-5.0.0.tar.gz (3.4 kB)\nRequirement already satisfied: six>=1.5 in /opt/conda/envs/Python-3.7-OpenCE/lib/python3.7/site-packages (from python-dateutil>=2.6.1->pandas) (1.15.0)\nRequirement already satisfied: Werkzeug>=2.0 in /opt/conda/envs/Python-3.7-OpenCE/lib/python3.7/site-packages (from Flask>=1.0.4->dash) (2.0.1)\nCollecting click>=7.1.2\n  Downloading click-8.0.3-py3-none-any.whl (97 kB)\n\u001b[K     |\u2588\u2588\u2588\u2588\u2588\u2588\u2588\u2588\u2588\u2588\u2588\u2588\u2588\u2588\u2588\u2588\u2588\u2588\u2588\u2588\u2588\u2588\u2588\u2588\u2588\u2588\u2588\u2588\u2588\u2588\u2588\u2588| 97 kB 15.8 MB/s eta 0:00:01\n\u001b[?25hCollecting itsdangerous>=2.0\n  Downloading itsdangerous-2.0.1-py3-none-any.whl (18 kB)\nCollecting Jinja2>=3.0\n  Downloading Jinja2-3.0.2-py3-none-any.whl (133 kB)\n\u001b[K     |\u2588\u2588\u2588\u2588\u2588\u2588\u2588\u2588\u2588\u2588\u2588\u2588\u2588\u2588\u2588\u2588\u2588\u2588\u2588\u2588\u2588\u2588\u2588\u2588\u2588\u2588\u2588\u2588\u2588\u2588\u2588\u2588| 133 kB 66.1 MB/s eta 0:00:01\n\u001b[?25hCollecting brotli\n  Downloading Brotli-1.0.9-cp37-cp37m-manylinux1_x86_64.whl (357 kB)\n\u001b[K     |\u2588\u2588\u2588\u2588\u2588\u2588\u2588\u2588\u2588\u2588\u2588\u2588\u2588\u2588\u2588\u2588\u2588\u2588\u2588\u2588\u2588\u2588\u2588\u2588\u2588\u2588\u2588\u2588\u2588\u2588\u2588\u2588| 357 kB 55.7 MB/s eta 0:00:01\n\u001b[?25hCollecting tenacity>=6.2.0\n  Downloading tenacity-8.0.1-py3-none-any.whl (24 kB)\nRequirement already satisfied: importlib-metadata; python_version < \"3.8\" in /opt/conda/envs/Python-3.7-OpenCE/lib/python3.7/site-packages (from click>=7.1.2->Flask>=1.0.4->dash) (1.6.1)\nCollecting MarkupSafe>=2.0\n  Downloading MarkupSafe-2.0.1-cp37-cp37m-manylinux2010_x86_64.whl (31 kB)\nRequirement already satisfied: zipp>=0.5 in /opt/conda/envs/Python-3.7-OpenCE/lib/python3.7/site-packages (from importlib-metadata; python_version < \"3.8\"->click>=7.1.2->Flask>=1.0.4->dash) (3.1.0)\nBuilding wheels for collected packages: dash-core-components, dash-html-components, dash-table\n  Building wheel for dash-core-components (setup.py) ... \u001b[?25ldone\n\u001b[?25h  Created wheel for dash-core-components: filename=dash_core_components-2.0.0-py3-none-any.whl size=3804 sha256=388a293774d7531a5a8167c27f40986e36daa367269e9dd643191188dd787f35\n  Stored in directory: /tmp/wsuser/.cache/pip/wheels/00/f9/c7/1a6437d794ed753ea9bc9079e761d4fc803a1f1f5d3697b9ec\n  Building wheel for dash-html-components (setup.py) ... \u001b[?25ldone\n\u001b[?25h  Created wheel for dash-html-components: filename=dash_html_components-2.0.0-py3-none-any.whl size=4069 sha256=b08eabeb650a38d7eb4b57c08032b69b48607c1120641e7642f783ec04459be0\n  Stored in directory: /tmp/wsuser/.cache/pip/wheels/ec/6b/81/05aceabd8b27f724e2c96784016287cc1bfbc349ebfda451de\n  Building wheel for dash-table (setup.py) ... \u001b[?25ldone\n\u001b[?25h  Created wheel for dash-table: filename=dash_table-5.0.0-py3-none-any.whl size=3897 sha256=d725643b7ea07f49379b9d2b8c59c7e245c7756021f4e4cf1713c4db9d2272b1\n  Stored in directory: /tmp/wsuser/.cache/pip/wheels/85/5d/4e/7c276b57992951dbe770bf5caad6448d0539c510663aefd2e2\nSuccessfully built dash-core-components dash-html-components dash-table\n\u001b[31mERROR: jupyterlab 2.2.6 has requirement jupyterlab_server<2.0,>=1.1.5, but you'll have jupyterlab-server 1.1.0 which is incompatible.\u001b[0m\nInstalling collected packages: dash-core-components, dash-html-components, click, itsdangerous, MarkupSafe, Jinja2, Flask, brotli, flask-compress, tenacity, plotly, dash-table, dash\n  Attempting uninstall: click\n    Found existing installation: Click 7.0\n    Uninstalling Click-7.0:\n      Successfully uninstalled Click-7.0\n  Attempting uninstall: MarkupSafe\n    Found existing installation: MarkupSafe 1.1.1\n    Uninstalling MarkupSafe-1.1.1:\n      Successfully uninstalled MarkupSafe-1.1.1\n  Attempting uninstall: Jinja2\n    Found existing installation: Jinja2 2.11.3\n    Uninstalling Jinja2-2.11.3:\n      Successfully uninstalled Jinja2-2.11.3\n  Attempting uninstall: plotly\n    Found existing installation: plotly 4.8.2\n    Uninstalling plotly-4.8.2:\n      Successfully uninstalled plotly-4.8.2\nSuccessfully installed Flask-2.0.2 Jinja2-3.0.2 MarkupSafe-2.0.1 brotli-1.0.9 click-8.0.3 dash-2.0.0 dash-core-components-2.0.0 dash-html-components-2.0.0 dash-table-5.0.0 flask-compress-1.10.1 itsdangerous-2.0.1 plotly-5.3.1 tenacity-8.0.1\n",
                    "name": "stdout"
                }
            ]
        },
        {
            "metadata": {},
            "cell_type": "code",
            "source": "!wget \"https://cf-courses-data.s3.us.cloud-object-storage.appdomain.cloud/IBM-DS0321EN-SkillsNetwork/datasets/spacex_launch_dash.csv\"",
            "execution_count": 3,
            "outputs": [
                {
                    "output_type": "stream",
                    "text": "--2021-11-05 16:36:50--  https://cf-courses-data.s3.us.cloud-object-storage.appdomain.cloud/IBM-DS0321EN-SkillsNetwork/datasets/spacex_launch_dash.csv\nResolving cf-courses-data.s3.us.cloud-object-storage.appdomain.cloud (cf-courses-data.s3.us.cloud-object-storage.appdomain.cloud)... 198.23.119.245\nConnecting to cf-courses-data.s3.us.cloud-object-storage.appdomain.cloud (cf-courses-data.s3.us.cloud-object-storage.appdomain.cloud)|198.23.119.245|:443... connected.\nHTTP request sent, awaiting response... 200 OK\nLength: 3033 (3.0K) [text/csv]\nSaving to: \u2018spacex_launch_dash.csv\u2019\n\nspacex_launch_dash. 100%[===================>]   2.96K  --.-KB/s    in 0s      \n\n2021-11-05 16:36:50 (90.9 MB/s) - \u2018spacex_launch_dash.csv\u2019 saved [3033/3033]\n\n",
                    "name": "stdout"
                }
            ]
        },
        {
            "metadata": {},
            "cell_type": "code",
            "source": "!wget \"https://cf-courses-data.s3.us.cloud-object-storage.appdomain.cloud/IBM-DS0321EN-SkillsNetwork/labs/module_3/spacex_dash_app.py\"",
            "execution_count": 4,
            "outputs": [
                {
                    "output_type": "stream",
                    "text": "--2021-11-05 16:37:12--  https://cf-courses-data.s3.us.cloud-object-storage.appdomain.cloud/IBM-DS0321EN-SkillsNetwork/labs/module_3/spacex_dash_app.py\nResolving cf-courses-data.s3.us.cloud-object-storage.appdomain.cloud (cf-courses-data.s3.us.cloud-object-storage.appdomain.cloud)... 198.23.119.245\nConnecting to cf-courses-data.s3.us.cloud-object-storage.appdomain.cloud (cf-courses-data.s3.us.cloud-object-storage.appdomain.cloud)|198.23.119.245|:443... connected.\nHTTP request sent, awaiting response... 200 OK\nLength: 2110 (2.1K) [text/x-python]\nSaving to: \u2018spacex_dash_app.py\u2019\n\nspacex_dash_app.py  100%[===================>]   2.06K  --.-KB/s    in 0s      \n\n2021-11-05 16:37:12 (60.1 MB/s) - \u2018spacex_dash_app.py\u2019 saved [2110/2110]\n\n",
                    "name": "stdout"
                }
            ]
        },
        {
            "metadata": {},
            "cell_type": "code",
            "source": "# Import required libraries\nimport pandas as pd\n\nimport plotly.express as px",
            "execution_count": 25,
            "outputs": []
        },
        {
            "metadata": {},
            "cell_type": "code",
            "source": "spacex_df = pd.read_csv(\"spacex_launch_dash.csv\")\nspacex_df.head()",
            "execution_count": 27,
            "outputs": [
                {
                    "output_type": "execute_result",
                    "execution_count": 27,
                    "data": {
                        "text/plain": "   Unnamed: 0  Flight Number  Launch Site Mission Outcome  class  \\\n0           0              1  CCAFS LC-40         Success      0   \n1           1              2  CCAFS LC-40         Success      0   \n2           2              3  CCAFS LC-40         Success      0   \n3           3              4  CCAFS LC-40         Success      0   \n4           4              5  CCAFS LC-40         Success      0   \n\n   Payload Mass (kg) Booster Version Booster Version Category  \n0                0.0  F9 v1.0  B0003                     v1.0  \n1                0.0  F9 v1.0  B0004                     v1.0  \n2              525.0  F9 v1.0  B0005                     v1.0  \n3              500.0  F9 v1.0  B0006                     v1.0  \n4              677.0  F9 v1.0  B0007                     v1.0  ",
                        "text/html": "<div>\n<style scoped>\n    .dataframe tbody tr th:only-of-type {\n        vertical-align: middle;\n    }\n\n    .dataframe tbody tr th {\n        vertical-align: top;\n    }\n\n    .dataframe thead th {\n        text-align: right;\n    }\n</style>\n<table border=\"1\" class=\"dataframe\">\n  <thead>\n    <tr style=\"text-align: right;\">\n      <th></th>\n      <th>Unnamed: 0</th>\n      <th>Flight Number</th>\n      <th>Launch Site</th>\n      <th>Mission Outcome</th>\n      <th>class</th>\n      <th>Payload Mass (kg)</th>\n      <th>Booster Version</th>\n      <th>Booster Version Category</th>\n    </tr>\n  </thead>\n  <tbody>\n    <tr>\n      <th>0</th>\n      <td>0</td>\n      <td>1</td>\n      <td>CCAFS LC-40</td>\n      <td>Success</td>\n      <td>0</td>\n      <td>0.0</td>\n      <td>F9 v1.0  B0003</td>\n      <td>v1.0</td>\n    </tr>\n    <tr>\n      <th>1</th>\n      <td>1</td>\n      <td>2</td>\n      <td>CCAFS LC-40</td>\n      <td>Success</td>\n      <td>0</td>\n      <td>0.0</td>\n      <td>F9 v1.0  B0004</td>\n      <td>v1.0</td>\n    </tr>\n    <tr>\n      <th>2</th>\n      <td>2</td>\n      <td>3</td>\n      <td>CCAFS LC-40</td>\n      <td>Success</td>\n      <td>0</td>\n      <td>525.0</td>\n      <td>F9 v1.0  B0005</td>\n      <td>v1.0</td>\n    </tr>\n    <tr>\n      <th>3</th>\n      <td>3</td>\n      <td>4</td>\n      <td>CCAFS LC-40</td>\n      <td>Success</td>\n      <td>0</td>\n      <td>500.0</td>\n      <td>F9 v1.0  B0006</td>\n      <td>v1.0</td>\n    </tr>\n    <tr>\n      <th>4</th>\n      <td>4</td>\n      <td>5</td>\n      <td>CCAFS LC-40</td>\n      <td>Success</td>\n      <td>0</td>\n      <td>677.0</td>\n      <td>F9 v1.0  B0007</td>\n      <td>v1.0</td>\n    </tr>\n  </tbody>\n</table>\n</div>"
                    },
                    "metadata": {}
                }
            ]
        },
        {
            "metadata": {},
            "cell_type": "code",
            "source": "#d=pd.DataFrame(spacex_df[[\"class\",\"Launch Site\"]]).groupby([\"Launch Site\"])[\"class\"].sum().reset_index()\ndr=pd.DataFrame(spacex_df[[\"class\",\"Launch Site\"]].groupby([\"Launch Site\"])[\"class\"].sum().reset_index())\ndr",
            "execution_count": 67,
            "outputs": [
                {
                    "output_type": "execute_result",
                    "execution_count": 67,
                    "data": {
                        "text/plain": "    Launch Site  class\n0   CCAFS LC-40      7\n1  CCAFS SLC-40      3\n2    KSC LC-39A     10\n3   VAFB SLC-4E      4",
                        "text/html": "<div>\n<style scoped>\n    .dataframe tbody tr th:only-of-type {\n        vertical-align: middle;\n    }\n\n    .dataframe tbody tr th {\n        vertical-align: top;\n    }\n\n    .dataframe thead th {\n        text-align: right;\n    }\n</style>\n<table border=\"1\" class=\"dataframe\">\n  <thead>\n    <tr style=\"text-align: right;\">\n      <th></th>\n      <th>Launch Site</th>\n      <th>class</th>\n    </tr>\n  </thead>\n  <tbody>\n    <tr>\n      <th>0</th>\n      <td>CCAFS LC-40</td>\n      <td>7</td>\n    </tr>\n    <tr>\n      <th>1</th>\n      <td>CCAFS SLC-40</td>\n      <td>3</td>\n    </tr>\n    <tr>\n      <th>2</th>\n      <td>KSC LC-39A</td>\n      <td>10</td>\n    </tr>\n    <tr>\n      <th>3</th>\n      <td>VAFB SLC-4E</td>\n      <td>4</td>\n    </tr>\n  </tbody>\n</table>\n</div>"
                    },
                    "metadata": {}
                }
            ]
        },
        {
            "metadata": {},
            "cell_type": "code",
            "source": "s0=pd.DataFrame(spacex_df.loc[(spacex_df[\"Launch Site\"]==\"CCAFS LC-40\") & (spacex_df[\"class\"]==0)])\ns=pd.DataFrame(spacex_df.loc[(spacex_df[\"Launch Site\"]==\"CCAFS LC-40\")])\ns1=pd.DataFrame(spacex_df.loc[(spacex_df[\"Launch Site\"]==\"CCAFS LC-40\") & (spacex_df[\"class\"]==1)])\ns1=pd.DataFrame(s1.groupby([\"Launch Site\"])[\"class\"].count().reset_index())\ns0=pd.DataFrame(s0.groupby([\"Launch Site\"])[\"class\"].count().reset_index())\nd=pd.concat([s0,s1],axis=0)\nd",
            "execution_count": 116,
            "outputs": [
                {
                    "output_type": "execute_result",
                    "execution_count": 116,
                    "data": {
                        "text/plain": "   Launch Site  class\n0  CCAFS LC-40     19\n0  CCAFS LC-40      7",
                        "text/html": "<div>\n<style scoped>\n    .dataframe tbody tr th:only-of-type {\n        vertical-align: middle;\n    }\n\n    .dataframe tbody tr th {\n        vertical-align: top;\n    }\n\n    .dataframe thead th {\n        text-align: right;\n    }\n</style>\n<table border=\"1\" class=\"dataframe\">\n  <thead>\n    <tr style=\"text-align: right;\">\n      <th></th>\n      <th>Launch Site</th>\n      <th>class</th>\n    </tr>\n  </thead>\n  <tbody>\n    <tr>\n      <th>0</th>\n      <td>CCAFS LC-40</td>\n      <td>19</td>\n    </tr>\n    <tr>\n      <th>0</th>\n      <td>CCAFS LC-40</td>\n      <td>7</td>\n    </tr>\n  </tbody>\n</table>\n</div>"
                    },
                    "metadata": {}
                }
            ]
        },
        {
            "metadata": {},
            "cell_type": "code",
            "source": "x=pd.DataFrame(s.groupby([\"class\"]).count().reset_index())[[\"Unnamed: 0\",\"class\"]]\nx",
            "execution_count": 120,
            "outputs": [
                {
                    "output_type": "execute_result",
                    "execution_count": 120,
                    "data": {
                        "text/plain": "   Unnamed: 0  class\n0          19      0\n1           7      1",
                        "text/html": "<div>\n<style scoped>\n    .dataframe tbody tr th:only-of-type {\n        vertical-align: middle;\n    }\n\n    .dataframe tbody tr th {\n        vertical-align: top;\n    }\n\n    .dataframe thead th {\n        text-align: right;\n    }\n</style>\n<table border=\"1\" class=\"dataframe\">\n  <thead>\n    <tr style=\"text-align: right;\">\n      <th></th>\n      <th>Unnamed: 0</th>\n      <th>class</th>\n    </tr>\n  </thead>\n  <tbody>\n    <tr>\n      <th>0</th>\n      <td>19</td>\n      <td>0</td>\n    </tr>\n    <tr>\n      <th>1</th>\n      <td>7</td>\n      <td>1</td>\n    </tr>\n  </tbody>\n</table>\n</div>"
                    },
                    "metadata": {}
                }
            ]
        },
        {
            "metadata": {},
            "cell_type": "code",
            "source": "data=pd.DataFrame(spacex_df.loc[(spacex_df[\"Launch Site\"]==\"CCAFS LC-40\") & (spacex_df[\"Payload Mass (kg)\"]>= 0) & (spacex_df[\"Payload Mass (kg)\"]<= 7500)])\ndata",
            "execution_count": 126,
            "outputs": [
                {
                    "output_type": "execute_result",
                    "execution_count": 126,
                    "data": {
                        "text/plain": "    Unnamed: 0  Flight Number  Launch Site       Mission Outcome  class  \\\n0            0              1  CCAFS LC-40               Success      0   \n1            1              2  CCAFS LC-40               Success      0   \n2            2              3  CCAFS LC-40               Success      0   \n3            3              4  CCAFS LC-40               Success      0   \n4            4              5  CCAFS LC-40               Success      0   \n5            5              7  CCAFS LC-40               Success      0   \n6            6              8  CCAFS LC-40               Success      0   \n7            7              9  CCAFS LC-40               Success      0   \n8            8             10  CCAFS LC-40               Success      0   \n9            9             11  CCAFS LC-40               Success      0   \n10          10             12  CCAFS LC-40               Success      0   \n11          11             13  CCAFS LC-40               Success      0   \n12          12             14  CCAFS LC-40               Success      0   \n13          13             15  CCAFS LC-40               Success      0   \n14          14             16  CCAFS LC-40               Success      0   \n15          15             17  CCAFS LC-40               Success      0   \n16          16             18  CCAFS LC-40               Success      0   \n17          17             19  CCAFS LC-40  Failure  (in flight)      1   \n18          18             20  CCAFS LC-40               Success      1   \n19          19             22  CCAFS LC-40               Success      0   \n20          20             23  CCAFS LC-40               Success      1   \n21          21             24  CCAFS LC-40               Success      1   \n22          22             25  CCAFS LC-40               Success      1   \n23          23             26  CCAFS LC-40               Success      0   \n24          24             27  CCAFS LC-40               Success      1   \n25          25             28  CCAFS LC-40               Success      1   \n\n    Payload Mass (kg) Booster Version Booster Version Category  \n0                 0.0  F9 v1.0  B0003                     v1.0  \n1                 0.0  F9 v1.0  B0004                     v1.0  \n2               525.0  F9 v1.0  B0005                     v1.0  \n3               500.0  F9 v1.0  B0006                     v1.0  \n4               677.0  F9 v1.0  B0007                     v1.0  \n5              3170.0         F9 v1.1                     v1.1  \n6              3325.0         F9 v1.1                     v1.1  \n7              2296.0         F9 v1.1                     v1.1  \n8              1316.0         F9 v1.1                     v1.1  \n9              4535.0         F9 v1.1                     v1.1  \n10             4428.0   F9 v1.1 B1011                     v1.1  \n11             2216.0   F9 v1.1 B1010                     v1.1  \n12             2395.0   F9 v1.1 B1012                     v1.1  \n13              570.0   F9 v1.1 B1013                     v1.1  \n14             4159.0   F9 v1.1 B1014                     v1.1  \n15             1898.0   F9 v1.1 B1015                     v1.1  \n16             4707.0   F9 v1.1 B1016                     v1.1  \n17             1952.0   F9 v1.1 B1018                     v1.1  \n18             2034.0     F9 FT B1019                       FT  \n19             5271.0     F9 FT B1020                       FT  \n20             3136.0   F9 FT B1021.1                       FT  \n21             4696.0     F9 FT B1022                       FT  \n22             3100.0   F9 FT B1023.1                       FT  \n23             3600.0     F9 FT B1024                       FT  \n24             2257.0   F9 FT B1025.1                       FT  \n25             4600.0     F9 FT B1026                       FT  ",
                        "text/html": "<div>\n<style scoped>\n    .dataframe tbody tr th:only-of-type {\n        vertical-align: middle;\n    }\n\n    .dataframe tbody tr th {\n        vertical-align: top;\n    }\n\n    .dataframe thead th {\n        text-align: right;\n    }\n</style>\n<table border=\"1\" class=\"dataframe\">\n  <thead>\n    <tr style=\"text-align: right;\">\n      <th></th>\n      <th>Unnamed: 0</th>\n      <th>Flight Number</th>\n      <th>Launch Site</th>\n      <th>Mission Outcome</th>\n      <th>class</th>\n      <th>Payload Mass (kg)</th>\n      <th>Booster Version</th>\n      <th>Booster Version Category</th>\n    </tr>\n  </thead>\n  <tbody>\n    <tr>\n      <th>0</th>\n      <td>0</td>\n      <td>1</td>\n      <td>CCAFS LC-40</td>\n      <td>Success</td>\n      <td>0</td>\n      <td>0.0</td>\n      <td>F9 v1.0  B0003</td>\n      <td>v1.0</td>\n    </tr>\n    <tr>\n      <th>1</th>\n      <td>1</td>\n      <td>2</td>\n      <td>CCAFS LC-40</td>\n      <td>Success</td>\n      <td>0</td>\n      <td>0.0</td>\n      <td>F9 v1.0  B0004</td>\n      <td>v1.0</td>\n    </tr>\n    <tr>\n      <th>2</th>\n      <td>2</td>\n      <td>3</td>\n      <td>CCAFS LC-40</td>\n      <td>Success</td>\n      <td>0</td>\n      <td>525.0</td>\n      <td>F9 v1.0  B0005</td>\n      <td>v1.0</td>\n    </tr>\n    <tr>\n      <th>3</th>\n      <td>3</td>\n      <td>4</td>\n      <td>CCAFS LC-40</td>\n      <td>Success</td>\n      <td>0</td>\n      <td>500.0</td>\n      <td>F9 v1.0  B0006</td>\n      <td>v1.0</td>\n    </tr>\n    <tr>\n      <th>4</th>\n      <td>4</td>\n      <td>5</td>\n      <td>CCAFS LC-40</td>\n      <td>Success</td>\n      <td>0</td>\n      <td>677.0</td>\n      <td>F9 v1.0  B0007</td>\n      <td>v1.0</td>\n    </tr>\n    <tr>\n      <th>5</th>\n      <td>5</td>\n      <td>7</td>\n      <td>CCAFS LC-40</td>\n      <td>Success</td>\n      <td>0</td>\n      <td>3170.0</td>\n      <td>F9 v1.1</td>\n      <td>v1.1</td>\n    </tr>\n    <tr>\n      <th>6</th>\n      <td>6</td>\n      <td>8</td>\n      <td>CCAFS LC-40</td>\n      <td>Success</td>\n      <td>0</td>\n      <td>3325.0</td>\n      <td>F9 v1.1</td>\n      <td>v1.1</td>\n    </tr>\n    <tr>\n      <th>7</th>\n      <td>7</td>\n      <td>9</td>\n      <td>CCAFS LC-40</td>\n      <td>Success</td>\n      <td>0</td>\n      <td>2296.0</td>\n      <td>F9 v1.1</td>\n      <td>v1.1</td>\n    </tr>\n    <tr>\n      <th>8</th>\n      <td>8</td>\n      <td>10</td>\n      <td>CCAFS LC-40</td>\n      <td>Success</td>\n      <td>0</td>\n      <td>1316.0</td>\n      <td>F9 v1.1</td>\n      <td>v1.1</td>\n    </tr>\n    <tr>\n      <th>9</th>\n      <td>9</td>\n      <td>11</td>\n      <td>CCAFS LC-40</td>\n      <td>Success</td>\n      <td>0</td>\n      <td>4535.0</td>\n      <td>F9 v1.1</td>\n      <td>v1.1</td>\n    </tr>\n    <tr>\n      <th>10</th>\n      <td>10</td>\n      <td>12</td>\n      <td>CCAFS LC-40</td>\n      <td>Success</td>\n      <td>0</td>\n      <td>4428.0</td>\n      <td>F9 v1.1 B1011</td>\n      <td>v1.1</td>\n    </tr>\n    <tr>\n      <th>11</th>\n      <td>11</td>\n      <td>13</td>\n      <td>CCAFS LC-40</td>\n      <td>Success</td>\n      <td>0</td>\n      <td>2216.0</td>\n      <td>F9 v1.1 B1010</td>\n      <td>v1.1</td>\n    </tr>\n    <tr>\n      <th>12</th>\n      <td>12</td>\n      <td>14</td>\n      <td>CCAFS LC-40</td>\n      <td>Success</td>\n      <td>0</td>\n      <td>2395.0</td>\n      <td>F9 v1.1 B1012</td>\n      <td>v1.1</td>\n    </tr>\n    <tr>\n      <th>13</th>\n      <td>13</td>\n      <td>15</td>\n      <td>CCAFS LC-40</td>\n      <td>Success</td>\n      <td>0</td>\n      <td>570.0</td>\n      <td>F9 v1.1 B1013</td>\n      <td>v1.1</td>\n    </tr>\n    <tr>\n      <th>14</th>\n      <td>14</td>\n      <td>16</td>\n      <td>CCAFS LC-40</td>\n      <td>Success</td>\n      <td>0</td>\n      <td>4159.0</td>\n      <td>F9 v1.1 B1014</td>\n      <td>v1.1</td>\n    </tr>\n    <tr>\n      <th>15</th>\n      <td>15</td>\n      <td>17</td>\n      <td>CCAFS LC-40</td>\n      <td>Success</td>\n      <td>0</td>\n      <td>1898.0</td>\n      <td>F9 v1.1 B1015</td>\n      <td>v1.1</td>\n    </tr>\n    <tr>\n      <th>16</th>\n      <td>16</td>\n      <td>18</td>\n      <td>CCAFS LC-40</td>\n      <td>Success</td>\n      <td>0</td>\n      <td>4707.0</td>\n      <td>F9 v1.1 B1016</td>\n      <td>v1.1</td>\n    </tr>\n    <tr>\n      <th>17</th>\n      <td>17</td>\n      <td>19</td>\n      <td>CCAFS LC-40</td>\n      <td>Failure  (in flight)</td>\n      <td>1</td>\n      <td>1952.0</td>\n      <td>F9 v1.1 B1018</td>\n      <td>v1.1</td>\n    </tr>\n    <tr>\n      <th>18</th>\n      <td>18</td>\n      <td>20</td>\n      <td>CCAFS LC-40</td>\n      <td>Success</td>\n      <td>1</td>\n      <td>2034.0</td>\n      <td>F9 FT B1019</td>\n      <td>FT</td>\n    </tr>\n    <tr>\n      <th>19</th>\n      <td>19</td>\n      <td>22</td>\n      <td>CCAFS LC-40</td>\n      <td>Success</td>\n      <td>0</td>\n      <td>5271.0</td>\n      <td>F9 FT B1020</td>\n      <td>FT</td>\n    </tr>\n    <tr>\n      <th>20</th>\n      <td>20</td>\n      <td>23</td>\n      <td>CCAFS LC-40</td>\n      <td>Success</td>\n      <td>1</td>\n      <td>3136.0</td>\n      <td>F9 FT B1021.1</td>\n      <td>FT</td>\n    </tr>\n    <tr>\n      <th>21</th>\n      <td>21</td>\n      <td>24</td>\n      <td>CCAFS LC-40</td>\n      <td>Success</td>\n      <td>1</td>\n      <td>4696.0</td>\n      <td>F9 FT B1022</td>\n      <td>FT</td>\n    </tr>\n    <tr>\n      <th>22</th>\n      <td>22</td>\n      <td>25</td>\n      <td>CCAFS LC-40</td>\n      <td>Success</td>\n      <td>1</td>\n      <td>3100.0</td>\n      <td>F9 FT B1023.1</td>\n      <td>FT</td>\n    </tr>\n    <tr>\n      <th>23</th>\n      <td>23</td>\n      <td>26</td>\n      <td>CCAFS LC-40</td>\n      <td>Success</td>\n      <td>0</td>\n      <td>3600.0</td>\n      <td>F9 FT B1024</td>\n      <td>FT</td>\n    </tr>\n    <tr>\n      <th>24</th>\n      <td>24</td>\n      <td>27</td>\n      <td>CCAFS LC-40</td>\n      <td>Success</td>\n      <td>1</td>\n      <td>2257.0</td>\n      <td>F9 FT B1025.1</td>\n      <td>FT</td>\n    </tr>\n    <tr>\n      <th>25</th>\n      <td>25</td>\n      <td>28</td>\n      <td>CCAFS LC-40</td>\n      <td>Success</td>\n      <td>1</td>\n      <td>4600.0</td>\n      <td>F9 FT B1026</td>\n      <td>FT</td>\n    </tr>\n  </tbody>\n</table>\n</div>"
                    },
                    "metadata": {}
                }
            ]
        },
        {
            "metadata": {},
            "cell_type": "code",
            "source": "",
            "execution_count": null,
            "outputs": []
        }
    ],
    "metadata": {
        "kernelspec": {
            "name": "python3",
            "display_name": "Python 3.7",
            "language": "python"
        },
        "language_info": {
            "name": "python",
            "version": "3.7.11",
            "mimetype": "text/x-python",
            "codemirror_mode": {
                "name": "ipython",
                "version": 3
            },
            "pygments_lexer": "ipython3",
            "nbconvert_exporter": "python",
            "file_extension": ".py"
        }
    },
    "nbformat": 4,
    "nbformat_minor": 1
}